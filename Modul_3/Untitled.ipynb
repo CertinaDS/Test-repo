{
 "cells": [
  {
   "cell_type": "code",
   "execution_count": 1,
   "id": "61f83b60-a9ac-4f37-a0a8-bcb1fc8a8581",
   "metadata": {
    "tags": []
   },
   "outputs": [
    {
     "name": "stdout",
     "output_type": "stream",
     "text": [
      "Список элементов:\n",
<<<<<<< HEAD
      "[28, 94, 100, 176, 195, 246, 253, 258, 265, 295, 313, 351, 371, 392, 441, 506, 527, 573, 639, 641, 709, 753, 761, 769, 783, 795, 808, 835, 836, 837, 866, 976, 1018, 1048, 1059, 1080, 1114, 1130, 1133, 1188, 1205, 1211, 1256, 1260, 1305, 1319, 1326, 1449, 1496, 1497]\n",
      "\n",
      "Случайный элемент 976 находится по индексу 31\n"
=======
      "[46, 52, 58, 60, 75, 82, 96, 99, 113, 164, 185, 190, 213, 268, 289, 316, 354, 378, 430, 481, 483, 522, 527, 573, 590, 666, 717, 729, 763, 785, 827, 890, 899, 916, 978, 990, 1002, 1049, 1146, 1149, 1170, 1309, 1325, 1329, 1355, 1366, 1409, 1423, 1438, 1459]\n",
      "\n",
      "Случайный элемент 1409 находится по индексу 46\n"
>>>>>>> cff5fc21fd29053da555795391e25ea843ad589c
     ]
    }
   ],
   "source": [
    "import random\n",
    "def findIndex(sorted_num_list, number):\n",
    "    first = 0\n",
    "    last = len(sorted_num_list) - 1\n",
    "    answer = None\n",
    "    while first <= last:\n",
    "        middle = first + (last - first) // 2\n",
    "        if sorted_num_list[middle] == number:\n",
    "            return middle\n",
    "        elif sorted_num_list[middle] < number:\n",
    "            first = middle + 1\n",
    "        else:\n",
    "            last = middle - 1\n",
    "    return -1\n",
    "num_list = random.sample(range(1, 1500), 50)\n",
    "sorted_num_list = sorted(num_list)\n",
    "number = random.choice(sorted_num_list)\n",
    "print(f\"Список элементов:\\n{sorted_num_list}\\n\")\n",
    "answer = findIndex(sorted_num_list, number)\n",
    "print(f\"Случайный элемент {number} находится по индексу {answer}\")"
   ]
  },
  {
   "cell_type": "code",
   "execution_count": null,
   "id": "ab3f5b3d-5b47-4ab2-8a15-fc9d85dcba09",
   "metadata": {},
   "outputs": [],
   "source": []
  }
 ],
 "metadata": {
  "kernelspec": {
   "display_name": "Python 3 (ipykernel)",
   "language": "python",
   "name": "python3"
  },
  "language_info": {
   "codemirror_mode": {
    "name": "ipython",
    "version": 3
   },
   "file_extension": ".py",
   "mimetype": "text/x-python",
   "name": "python",
   "nbconvert_exporter": "python",
   "pygments_lexer": "ipython3",
   "version": "3.11.3"
  }
 },
 "nbformat": 4,
 "nbformat_minor": 5
}
