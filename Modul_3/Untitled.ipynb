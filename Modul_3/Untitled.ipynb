{
 "cells": [
  {
   "cell_type": "code",
   "execution_count": 1,
   "id": "61f83b60-a9ac-4f37-a0a8-bcb1fc8a8581",
   "metadata": {
    "tags": []
   },
   "outputs": [
    {
     "name": "stdout",
     "output_type": "stream",
     "text": [
      "Список элементов:\n",
      "[46, 52, 58, 60, 75, 82, 96, 99, 113, 164, 185, 190, 213, 268, 289, 316, 354, 378, 430, 481, 483, 522, 527, 573, 590, 666, 717, 729, 763, 785, 827, 890, 899, 916, 978, 990, 1002, 1049, 1146, 1149, 1170, 1309, 1325, 1329, 1355, 1366, 1409, 1423, 1438, 1459]\n",
      "\n",
      "Случайный элемент 1409 находится по индексу 46\n"
     ]
    }
   ],
   "source": [
    "import random\n",
    "def findIndex(sorted_num_list, number):\n",
    "    first = 0\n",
    "    last = len(sorted_num_list) - 1\n",
    "    answer = None\n",
    "    while first <= last:\n",
    "        middle = first + (last - first) // 2\n",
    "        if sorted_num_list[middle] == number:\n",
    "            return middle\n",
    "        elif sorted_num_list[middle] < number:\n",
    "            first = middle + 1\n",
    "        else:\n",
    "            last = middle - 1\n",
    "    return -1\n",
    "num_list = random.sample(range(1, 1500), 50)\n",
    "sorted_num_list = sorted(num_list)\n",
    "number = random.choice(sorted_num_list)\n",
    "print(f\"Список элементов:\\n{sorted_num_list}\\n\")\n",
    "answer = findIndex(sorted_num_list, number)\n",
    "print(f\"Случайный элемент {number} находится по индексу {answer}\")"
   ]
  },
  {
   "cell_type": "code",
   "execution_count": null,
   "id": "ab3f5b3d-5b47-4ab2-8a15-fc9d85dcba09",
   "metadata": {},
   "outputs": [],
   "source": []
  }
 ],
 "metadata": {
  "kernelspec": {
   "display_name": "Python 3 (ipykernel)",
   "language": "python",
   "name": "python3"
  },
  "language_info": {
   "codemirror_mode": {
    "name": "ipython",
    "version": 3
   },
   "file_extension": ".py",
   "mimetype": "text/x-python",
   "name": "python",
   "nbconvert_exporter": "python",
   "pygments_lexer": "ipython3",
   "version": "3.11.3"
  }
 },
 "nbformat": 4,
 "nbformat_minor": 5
}
