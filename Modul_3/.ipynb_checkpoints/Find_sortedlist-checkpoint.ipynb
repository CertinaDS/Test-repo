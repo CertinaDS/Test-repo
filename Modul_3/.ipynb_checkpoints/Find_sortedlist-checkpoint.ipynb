{
 "cells": [
  {
   "cell_type": "code",
   "execution_count": 2,
   "id": "61f83b60-a9ac-4f37-a0a8-bcb1fc8a8581",
   "metadata": {
    "tags": []
   },
   "outputs": [
    {
     "name": "stdout",
     "output_type": "stream",
     "text": [
      "Список элементов:\n",
      "[11, 17, 103, 113, 116, 126, 153, 165, 214, 225, 274, 303, 343, 351, 376, 400, 403, 455, 456, 500, 558, 652, 653, 674, 694, 701, 781, 794, 808, 829, 851, 856, 898, 955, 988, 1008, 1010, 1032, 1049, 1073, 1225, 1257, 1265, 1268, 1343, 1391, 1400, 1413, 1462, 1470]\n",
      "\n",
      "Случайный элемент 225 находится по индексу 9\n"
     ]
    }
   ],
   "source": [
    "import random\n",
    "def findIndex(sorted_num_list, number):\n",
    "    first = 0\n",
    "    last = len(sorted_num_list) - 1\n",
    "    while first <= last:\n",
    "        middle = first + (last - first) // 2\n",
    "        if sorted_num_list[middle] == number:\n",
    "            return middle\n",
    "        elif sorted_num_list[middle] < number:\n",
    "            first = middle + 1\n",
    "        else:\n",
    "            last = middle - 1\n",
    "    return -1\n",
    "num_list = random.sample(range(1, 1500), 50)\n",
    "sorted_num_list = sorted(num_list)\n",
    "number = random.choice(sorted_num_list)\n",
    "print(f\"Список элементов:\\n{sorted_num_list}\\n\")\n",
    "index = findIndex(sorted_num_list, number)\n",
    "print(f\"Случайный элемент {number} находится по индексу {index}\")"
   ]
  },
  {
   "cell_type": "code",
   "execution_count": null,
   "id": "ab3f5b3d-5b47-4ab2-8a15-fc9d85dcba09",
   "metadata": {},
   "outputs": [],
   "source": []
  }
 ],
 "metadata": {
  "kernelspec": {
   "display_name": "Python 3 (ipykernel)",
   "language": "python",
   "name": "python3"
  },
  "language_info": {
   "codemirror_mode": {
    "name": "ipython",
    "version": 3
   },
   "file_extension": ".py",
   "mimetype": "text/x-python",
   "name": "python",
   "nbconvert_exporter": "python",
   "pygments_lexer": "ipython3",
   "version": "3.11.3"
  }
 },
 "nbformat": 4,
 "nbformat_minor": 5
}
